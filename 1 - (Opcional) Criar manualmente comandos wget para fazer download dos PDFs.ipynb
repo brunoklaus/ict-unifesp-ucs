{
 "cells": [
  {
   "cell_type": "code",
   "execution_count": 1,
   "id": "f689f1c0",
   "metadata": {},
   "outputs": [
    {
     "name": "stderr",
     "output_type": "stream",
     "text": [
      "/tmp/ipykernel_7066/1911272894.py:10: DeprecationWarning: use options instead of firefox_options\n",
      "  driver = webdriver.Firefox(firefox_options=options)\n"
     ]
    }
   ],
   "source": [
    "from selenium import webdriver\n",
    "import time\n",
    "\n",
    "UCS_WEBPAGE = r\"https://www.unifesp.br/campus/sjc/documentos-da-secretaria/542-graduacao/servicos-graduacao/catalogo-de-disciplinas/2287-ucs-vigentes-2.html\"\n",
    "\n",
    "options = webdriver.FirefoxOptions()\n",
    "options.add_argument('--ignore-certificate-errors')\n",
    "options.add_argument(\"--test-type\")\n",
    "options.binary_location = \"/usr/bin/firefox\"\n",
    "driver = webdriver.Firefox(firefox_options=options)\n",
    "\n",
    "# Get initial page\n",
    "driver.get(UCS_WEBPAGE)\n"
   ]
  },
  {
   "cell_type": "code",
   "execution_count": 41,
   "id": "bf149723",
   "metadata": {},
   "outputs": [],
   "source": [
    "import os\n",
    "import os.path as osp\n",
    "import re \n",
    "# the folder where we'll save PDF\n",
    "PDF_PATH = './pdfs'\n",
    "# prefix used by all links to PDF\n",
    "HREF_PREFIX = r\"\"\n",
    "\n",
    "# Create folder if it does not exist\n",
    "os.makedirs(PDF_PATH,exist_ok=True)\n",
    "\n",
    "with open(\"download_commands.txt\", \"w\") as f:\n",
    "    href_elements = driver.find_elements_by_xpath(f'//a[starts-with(@href, \"{HREF_PREFIX}\")]')\n",
    "    for el in href_elements:\n",
    "        pdf_link = el.get_attribute('href')\n",
    "        if (pdf_link[-3:] == 'pdf'): \n",
    "            el_name = el.get_attribute('innerHTML').replace(' ', '_')\n",
    "            command =  f\"wget {pdf_link} -O {osp.join(PDF_PATH,el_name + '.pdf')}\"\n",
    "            f.write(command + '\\n')\n",
    "\n",
    "    \n"
   ]
  },
  {
   "cell_type": "code",
   "execution_count": null,
   "id": "e035bff9",
   "metadata": {},
   "outputs": [],
   "source": []
  }
 ],
 "metadata": {
  "kernelspec": {
   "display_name": "Python 3 (ipykernel)",
   "language": "python",
   "name": "python3"
  },
  "language_info": {
   "codemirror_mode": {
    "name": "ipython",
    "version": 3
   },
   "file_extension": ".py",
   "mimetype": "text/x-python",
   "name": "python",
   "nbconvert_exporter": "python",
   "pygments_lexer": "ipython3",
   "version": "3.8.13"
  }
 },
 "nbformat": 4,
 "nbformat_minor": 5
}
